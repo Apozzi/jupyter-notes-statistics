{
 "cells": [
  {
   "cell_type": "markdown",
   "metadata": {},
   "source": [
    "## Probability, Sets and Visualization\n",
    "\n",
    "First of all i will introduce the concept of set, is important the notion of sets in probability, A set can define a group of possible events that can occur.\n",
    "\n",
    "Defined the event as uppercase $ X $ and the outcomes of the event as $ x $ so mathematically we define $ x \\in X $, with this idea we can define set $ A  = \\{ 1, 2, 3, 5 \\}$ with 4 outcomes,so if we choose a number from 1 to 5 they will have a chance of $4/5$ to be part of the set $ A $, as $ P(A) = 4/5$ here $ P(A) $ defines the event of getting a element from 1 to 5.\n"
   ]
  },
  {
   "cell_type": "markdown",
   "metadata": {},
   "source": [
    "## Interception of events\n",
    "\n",
    "Given the set $ A  = \\{ 1, 2, 3, 5 \\}$ and $ B = \\{ 2, 3, 4 \\} $ we can define the interception as $ A \\cap B = \\{2, 3\\} $ here all elements of set $ A $ also belongs to $ B $.\n",
    "\n",
    "The probability of element of interception given 2 events is defined by $ P( A \\cap B ) = P(A) . P(B) $,\n",
    "basically im saying that event A and event B occurred.\n",
    "\n",
    "knowing that $P(B) = 3/5$ is second event and appling this formula we can discover $ P( A \\cap B ) = 3/5 . 4/5 = 12/25 = 0.48 $.\n",
    "\n",
    "That is how we can implement and visualize in python:"
   ]
  },
  {
   "cell_type": "code",
   "execution_count": 49,
   "metadata": {},
   "outputs": [
    {
     "data": {
      "image/png": "[encoded data removed]",
      "text/plain": [
       "<Figure size 432x288 with 1 Axes>"
      ]
     },
     "metadata": {},
     "output_type": "display_data"
    },
    {
     "name": "stdout",
     "output_type": "stream",
     "text": [
      "Interception = {2 , 3}\n",
      "Probability of getting two events being a interception = 0.48\n"
     ]
    }
   ],
   "source": [
    "# First of all install \"pip install matplotlib-venn\" in your jupyter-notebook environment\n",
    "\n",
    "import matplotlib.pyplot as plt\n",
    "from matplotlib_venn import venn2, venn3\n",
    "\n",
    "n_e = 5 # Number of possible elements.\n",
    "A = set(['1' , '2',  '3', '5'])\n",
    "B = set(['2', '3' , '4'])\n",
    "\n",
    "p_A = len(A) / n_e # Probability of getting a element in set A.\n",
    "p_B = len(B) / n_e # Probability of getting a element in set B.\n",
    "\n",
    "Interception_A_B = A & B\n",
    "p_Interception_A_B = p_A * p_B\n",
    "\n",
    "v = venn2([A, B])\n",
    "v.get_label_by_id('10').set_text(p_A)\n",
    "v.get_label_by_id('01').set_text(p_B)\n",
    "v.get_label_by_id('11').set_text(p_Interception_A_B)\n",
    "plt.show()\n",
    "\n",
    "print(\"Interception = {\" + ' , '.join(Interception_A_B) + \"}\")\n",
    "print(\"Probability of getting two events being a interception = %.2f\" % p_Interception_A_B)"
   ]
  },
  {
   "cell_type": "markdown",
   "metadata": {},
   "source": [
    "## Union of events\n",
    "\n",
    "Given the set $ A  = \\{ 1, 2, 3, 5 \\}$ and $ B = \\{ 2, 3, 4 \\} $ we can define the union as $ A \\cup B = \\{1, 2, 3, 4, 5\\} $ here the union contains the outcomes of set $ A $ and $ B $.\n",
    "\n",
    "The probability of element of union is defined by $ P( A \\cup B ) = P(A) + P(B) - P( A \\cap B ) $.\n",
    "\n",
    "That is how we can implement and visualize in python:"
   ]
  },
  {
   "cell_type": "code",
   "execution_count": 51,
   "metadata": {},
   "outputs": [
    {
     "data": {
      "image/png": "[encoded data removed]",
      "text/plain": [
       "<Figure size 432x288 with 1 Axes>"
      ]
     },
     "metadata": {},
     "output_type": "display_data"
    },
    {
     "name": "stdout",
     "output_type": "stream",
     "text": [
      "Union = {2 , 1 , 3 , 5 , 4}\n",
      "Probability of two events be a union = 0.92\n"
     ]
    }
   ],
   "source": [
    "UNION_A_B = A | B\n",
    "p_UNION_A_B = p_A + p_B - p_Interception_A_B\n",
    "\n",
    "v = venn3([A, B, UNION_A_B] , ('A', 'B', 'UNION'))\n",
    "\n",
    "v.get_label_by_id('111').set_text(format(p_UNION_A_B, '.2f'))\n",
    "v.get_label_by_id('101').set_text(p_A)\n",
    "v.get_label_by_id('011').set_text(p_B)\n",
    "v.get_label_by_id('001').set_text(' ')\n",
    "\n",
    "plt.show()\n",
    "\n",
    "print(\"Union = {\" + ' , '.join(UNION_A_B) + \"}\")\n",
    "print(\"Probability of two events be a union = %.2f\" % p_UNION_A_B)"
   ]
  },
  {
   "cell_type": "markdown",
   "metadata": {},
   "source": [
    "So the chance of getting a element in union given 2 events is $92\\%$, why? In this case i saying that event A or event B occurred in order ${\\{A, B\\}}$ or ${\\{B, A\\}}$ and never ${\\{A, B'\\}}$ and ${\\{B, A'\\}}$ if i get $4$ two times they will not be part of the union of the probability! \n",
    "\n",
    "\n",
    "## Complements\n",
    "\n",
    "Given $ A = \\{ 1, 2, 3 , 5 \\} $ the complement $ A' $ is every element that $ x \\notin A $ and $ x \\in A'$ like $ x = 4$ considering that value 4 exists in universal set $ U $ (which set contains all possible values)\n",
    "\n",
    "Here $ P(A') = 1 - P(A) $"
   ]
  },
  {
   "cell_type": "code",
   "execution_count": 52,
   "metadata": {},
   "outputs": [
    {
     "name": "stdout",
     "output_type": "stream",
     "text": [
      "Has '4' not in A ? True\n",
      "Probability of not occurring event A: 0.20\n"
     ]
    }
   ],
   "source": [
    "print(\"Has '4' not in A ? \" + str('4' not in A))\n",
    "print(\"Probability of not occurring event A: %.2f\" % (1 - p_A))"
   ]
  },
  {
   "cell_type": "markdown",
   "metadata": {},
   "source": [
    "## Dependence of events\n",
    "\n",
    "The notation $ P( A | B)$ define the dependence of events, so they are not independent anymore occurring only in order ${\\{A, B\\}}$ and never in ${\\{B, A\\}}$\n",
    "\n",
    "The $ P( A | B) $ is defined as $ P( A | B)  = \\frac{P( A \\cap B)}{P(B)} $"
   ]
  },
  {
   "cell_type": "code",
   "execution_count": 44,
   "metadata": {},
   "outputs": [
    {
     "name": "stdout",
     "output_type": "stream",
     "text": [
      "0.8\n"
     ]
    }
   ],
   "source": [
    "p_a_depends_b = p_Interception_A_B / p_B\n",
    "print(p_a_depends_b) # In this case they are statistically independent resulting in P(A)"
   ]
  },
  {
   "cell_type": "markdown",
   "metadata": {},
   "source": [
    "# Bayes' theorem\n",
    "\n",
    "The bayes theorem is defined by the correlation $ P( A | B)  = \\frac{P( B | A) . P(A)}{P(B)} $ \n",
    "\n",
    "So we conclude that."
   ]
  },
  {
   "cell_type": "code",
   "execution_count": 47,
   "metadata": {},
   "outputs": [
    {
     "name": "stdout",
     "output_type": "stream",
     "text": [
      "True\n"
     ]
    }
   ],
   "source": [
    "p_b_depends_a = p_Interception_A_B / p_A\n",
    "print(p_a_depends_b == ((p_b_depends_a * p_A) / p_B) )"
   ]
  },
  {
   "cell_type": "markdown",
   "metadata": {},
   "source": [
    "You can see more about in next jbook of Bayes theorem and Bayesian statistics and relation between posterior, likehood, prior, evidence."
   ]
  },
  {
   "cell_type": "code",
   "execution_count": null,
   "metadata": {},
   "outputs": [],
   "source": []
  }
 ],
 "metadata": {
  "kernelspec": {
   "display_name": "Python 3 (ipykernel)",
   "language": "python",
   "name": "python3"
  },
  "language_info": {
   "codemirror_mode": {
    "name": "ipython",
    "version": 3
   },
   "file_extension": ".py",
   "mimetype": "text/x-python",
   "name": "python",
   "nbconvert_exporter": "python",
   "pygments_lexer": "ipython3",
   "version": "3.12.3"
  }
 },
 "nbformat": 4,
 "nbformat_minor": 4
}
